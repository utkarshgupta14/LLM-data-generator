{
 "cells": [
  {
   "cell_type": "code",
   "execution_count": 4,
   "metadata": {},
   "outputs": [],
   "source": [
    "import ollama"
   ]
  },
  {
   "cell_type": "code",
   "execution_count": 5,
   "metadata": {},
   "outputs": [
    {
     "name": "stdout",
     "output_type": "stream",
     "text": [
      "\u001b[?2026h\u001b[?25l\u001b[1Gpulling manifest ⠋ \u001b[K\u001b[?25h\u001b[?2026l\u001b[?2026h\u001b[?25l\u001b[1Gpulling manifest ⠙ \u001b[K\u001b[?25h\u001b[?2026l\u001b[?2026h\u001b[?25l\u001b[1Gpulling manifest ⠹ \u001b[K\u001b[?25h\u001b[?2026l\u001b[?2026h\u001b[?25l\u001b[1Gpulling manifest ⠸ \u001b[K\u001b[?25h\u001b[?2026l\u001b[?2026h\u001b[?25l\u001b[1Gpulling manifest ⠼ \u001b[K\u001b[?25h\u001b[?2026l\u001b[?2026h\u001b[?25l\u001b[1Gpulling manifest ⠴ \u001b[K\u001b[?25h\u001b[?2026l\u001b[?2026h\u001b[?25l\u001b[1Gpulling manifest ⠦ \u001b[K\u001b[?25h\u001b[?2026l\u001b[?2026h\u001b[?25l\u001b[1Gpulling manifest ⠧ \u001b[K\u001b[?25h\u001b[?2026l\u001b[?2026h\u001b[?25l\u001b[1Gpulling manifest ⠇ \u001b[K\u001b[?25h\u001b[?2026l\u001b[?2026h\u001b[?25l\u001b[1Gpulling manifest ⠏ \u001b[K\u001b[?25h\u001b[?2026l\u001b[?2026h\u001b[?25l\u001b[1Gpulling manifest ⠋ \u001b[K\u001b[?25h\u001b[?2026l\u001b[?2026h\u001b[?25l\u001b[1Gpulling manifest \u001b[K\n",
      "pulling 667b0c1932bc... 100% ▕████████████████▏ 4.9 GB                         \u001b[K\n",
      "pulling 948af2743fc7... 100% ▕████████████████▏ 1.5 KB                         \u001b[K\n",
      "pulling 0ba8f0e314b4... 100% ▕████████████████▏  12 KB                         \u001b[K\n",
      "pulling 56bb8bd477a5... 100% ▕████████████████▏   96 B                         \u001b[K\n",
      "pulling 455f34728c9b... 100% ▕████████████████▏  487 B                         \u001b[K\n",
      "verifying sha256 digest \u001b[K\n",
      "writing manifest \u001b[K\n",
      "success \u001b[K\u001b[?25h\u001b[?2026l\n",
      "\u001b[?2026h\u001b[?25l\u001b[1Gpulling manifest ⠋ \u001b[K\u001b[?25h\u001b[?2026l\u001b[?2026h\u001b[?25l\u001b[1Gpulling manifest ⠙ \u001b[K\u001b[?25h\u001b[?2026l\u001b[?2026h\u001b[?25l\u001b[1Gpulling manifest ⠹ \u001b[K\u001b[?25h\u001b[?2026l\u001b[?2026h\u001b[?25l\u001b[1Gpulling manifest ⠸ \u001b[K\u001b[?25h\u001b[?2026l\u001b[?2026h\u001b[?25l\u001b[1Gpulling manifest ⠼ \u001b[K\u001b[?25h\u001b[?2026l\u001b[?2026h\u001b[?25l\u001b[1Gpulling manifest ⠴ \u001b[K\u001b[?25h\u001b[?2026l\u001b[?2026h\u001b[?25l\u001b[1Gpulling manifest ⠦ \u001b[K\u001b[?25h\u001b[?2026l\u001b[?2026h\u001b[?25l\u001b[1Gpulling manifest ⠧ \u001b[K\u001b[?25h\u001b[?2026l\u001b[?2026h\u001b[?25l\u001b[1Gpulling manifest \u001b[K\n",
      "pulling 96c415656d37... 100% ▕████████████████▏ 4.7 GB                         \u001b[K\n",
      "pulling 369ca498f347... 100% ▕████████████████▏  387 B                         \u001b[K\n",
      "pulling 6e4c38e1172f... 100% ▕████████████████▏ 1.1 KB                         \u001b[K\n",
      "pulling f4d24e9138dd... 100% ▕████████████████▏  148 B                         \u001b[K\n",
      "pulling 40fb844194b2... 100% ▕████████████████▏  487 B                         \u001b[K\n",
      "verifying sha256 digest \u001b[K\n",
      "writing manifest \u001b[K\n",
      "success \u001b[K\u001b[?25h\u001b[?2026l\n",
      "\u001b[?2026h\u001b[?25l\u001b[1Gpulling manifest ⠋ \u001b[K\u001b[?25h\u001b[?2026l\u001b[?2026h\u001b[?25l\u001b[1Gpulling manifest ⠙ \u001b[K\u001b[?25h\u001b[?2026l\u001b[?2026h\u001b[?25l\u001b[1Gpulling manifest ⠹ \u001b[K\u001b[?25h\u001b[?2026l\u001b[?2026h\u001b[?25l\u001b[1Gpulling manifest ⠸ \u001b[K\u001b[?25h\u001b[?2026l\u001b[?2026h\u001b[?25l\u001b[1Gpulling manifest ⠼ \u001b[K\u001b[?25h\u001b[?2026l\u001b[?2026h\u001b[?25l\u001b[1Gpulling manifest ⠴ \u001b[K\u001b[?25h\u001b[?2026l\u001b[?2026h\u001b[?25l\u001b[1Gpulling manifest ⠦ \u001b[K\u001b[?25h\u001b[?2026l\u001b[?2026h\u001b[?25l\u001b[1Gpulling manifest ⠧ \u001b[K\u001b[?25h\u001b[?2026l\u001b[?2026h\u001b[?25l\u001b[1Gpulling manifest \u001b[K\n",
      "pulling 2bada8a74506... 100% ▕████████████████▏ 4.7 GB                         \u001b[K\n",
      "pulling 66b9ea09bd5b... 100% ▕████████████████▏   68 B                         \u001b[K\n",
      "pulling eb4402837c78... 100% ▕████████████████▏ 1.5 KB                         \u001b[K\n",
      "pulling 832dd9e00a68... 100% ▕████████████████▏  11 KB                         \u001b[K\n",
      "pulling 2f15b3218f05... 100% ▕████████████████▏  487 B                         \u001b[K\n",
      "verifying sha256 digest \u001b[K\n",
      "writing manifest \u001b[K\n",
      "success \u001b[K\u001b[?25h\u001b[?2026l\n",
      "\u001b[?2026h\u001b[?25l\u001b[1Gpulling manifest ⠋ \u001b[K\u001b[?25h\u001b[?2026l\u001b[?2026h\u001b[?25l\u001b[1Gpulling manifest ⠙ \u001b[K\u001b[?25h\u001b[?2026l\u001b[?2026h\u001b[?25l\u001b[1Gpulling manifest ⠹ \u001b[K\u001b[?25h\u001b[?2026l\u001b[?2026h\u001b[?25l\u001b[1Gpulling manifest ⠸ \u001b[K\u001b[?25h\u001b[?2026l\u001b[?2026h\u001b[?25l\u001b[1Gpulling manifest ⠼ \u001b[K\u001b[?25h\u001b[?2026l\u001b[?2026h\u001b[?25l\u001b[1Gpulling manifest ⠴ \u001b[K\u001b[?25h\u001b[?2026l\u001b[?2026h\u001b[?25l\u001b[1Gpulling manifest ⠦ \u001b[K\u001b[?25h\u001b[?2026l\u001b[?2026h\u001b[?25l\u001b[1Gpulling manifest ⠧ \u001b[K\u001b[?25h\u001b[?2026l\u001b[?2026h\u001b[?25l\u001b[1Gpulling manifest ⠇ \u001b[K\u001b[?25h\u001b[?2026l\u001b[?2026h\u001b[?25l\u001b[1Gpulling manifest \u001b[K\n",
      "pulling 377655e65351... 100% ▕████████████████▏ 3.3 GB                         \u001b[K\n",
      "pulling e0a42594d802... 100% ▕████████████████▏  358 B                         \u001b[K\n",
      "pulling dd084c7d92a3... 100% ▕████████████████▏ 8.4 KB                         \u001b[K\n",
      "pulling 0a74a8735bf3... 100% ▕████████████████▏   55 B                         \u001b[K\n",
      "pulling ffae984acbea... 100% ▕████████████████▏  489 B                         \u001b[K\n",
      "verifying sha256 digest \u001b[K\n",
      "writing manifest \u001b[K\n",
      "success \u001b[K\u001b[?25h\u001b[?2026l\n"
     ]
    }
   ],
   "source": [
    "# define models\n",
    "# llama 3.1/2\n",
    "# deepseek\n",
    "# gemma\n",
    "# qwen\n",
    "# openAi?\n",
    "!ollama pull llama3.1:8b\n",
    "!ollama pull deepseek-r1:7b\n",
    "!ollama pull qwen2.5:7b\n",
    "!ollama pull gemma3:4b\n",
    "\n",
    "LLAMA_MODEL = \"llama3.1:8b\"\n",
    "DEEPSEEK_MODEL = \"deepseek-r1:7b\"\n",
    "QWEN_MODEL = \"qwen2.5:7b\"\n",
    "GEMMA_MODEL = \"gemma3:4b\"\n",
    "model_list = [LLAMA_MODEL, DEEPSEEK_MODEL, QWEN_MODEL, GEMMA_MODEL]"
   ]
  },
  {
   "cell_type": "code",
   "execution_count": 12,
   "metadata": {},
   "outputs": [
    {
     "name": "stdout",
     "output_type": "stream",
     "text": [
      "RESPONSE FROM MODEL: llama3.1:8b\n",
      "Hello! It's nice to meet you. Is there something I can help you with, or would you like to chat?.\n",
      ".\n",
      ".\n",
      ".\n",
      "\n",
      "RESPONSE FROM MODEL: deepseek-r1:7b\n",
      "<think>\n",
      "Alright, the user greeted me with \"Hello!\" and I responded warmly. Now they're following up with another message about my capabilities in Chinese. I need to acknowledge their interest in learning more about my abilities.\n",
      "\n",
      "I should keep it friendly and open-ended so they feel comfortable asking further questions. Maybe mention a few areas where I can help, like answering factual questions or providing information on various topics.\n",
      "\n",
      "Also, I want to encourage them by saying they can ask anything they're curious about, which shows I'm ready to assist with any topic they choose.\n",
      "</think>\n",
      "\n",
      "Hello! It's great to hear from you. How can I assist you today? Whether you have a question about learning something new or just exploring the world around you, feel free to ask!.\n",
      ".\n",
      ".\n",
      ".\n",
      "\n",
      "RESPONSE FROM MODEL: qwen2.5:7b\n",
      "Hello there! How can I assist you today? Feel free to ask me any questions or let me know if you need help with anything..\n",
      ".\n",
      ".\n",
      ".\n",
      "\n",
      "RESPONSE FROM MODEL: gemma3:4b\n",
      "Hello there! 😊 It’s lovely to chat with you. What’s on your mind today? Is there anything you’d like to talk about, or maybe I can help you with something?.\n",
      ".\n",
      ".\n",
      ".\n",
      "\n"
     ]
    }
   ],
   "source": [
    "# test models for random output\n",
    "messages_test = [\n",
    "    {'role':'system', 'content':'You are a friendly assistant'},\n",
    "    {'role':'user', 'content':'Hello!'}\n",
    "]\n",
    "def get_sample_output(MODEL, messages):\n",
    "    print('RESPONSE FROM MODEL:',MODEL)\n",
    "    stream = ollama.chat(model=MODEL, messages=messages, stream=True)\n",
    "    for chunk in stream:\n",
    "        print(chunk['message']['content'], end='', flush=True)\n",
    "    print(\".\\n.\\n.\\n.\\n\")\n",
    "\n",
    "for model in model_list:\n",
    "    get_sample_output(model, messages_test)"
   ]
  },
  {
   "cell_type": "code",
   "execution_count": null,
   "metadata": {},
   "outputs": [],
   "source": []
  }
 ],
 "metadata": {
  "kernelspec": {
   "display_name": "llms",
   "language": "python",
   "name": "python3"
  },
  "language_info": {
   "codemirror_mode": {
    "name": "ipython",
    "version": 3
   },
   "file_extension": ".py",
   "mimetype": "text/x-python",
   "name": "python",
   "nbconvert_exporter": "python",
   "pygments_lexer": "ipython3",
   "version": "3.11.11"
  }
 },
 "nbformat": 4,
 "nbformat_minor": 2
}
