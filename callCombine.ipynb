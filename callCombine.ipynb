{
 "cells": [
  {
   "cell_type": "code",
   "execution_count": 1,
   "metadata": {},
   "outputs": [],
   "source": [
    "import ollama\n",
    "import pandas as pd\n",
    "import json"
   ]
  },
  {
   "cell_type": "code",
   "execution_count": 73,
   "metadata": {},
   "outputs": [],
   "source": [
    "# single model reponse\n",
    "def model_response(model, user_input, field_names, num_rows):\n",
    "    system_prompt = \"\"\"\n",
    "You are a smart data science assistant who is responsible for generating test data given a particular format. Generate varied data. Don't give generic data that can be found anywhere. Don't give names of real companies or brands.\n",
    "The user may ask for negative testing, limit testing, or some particular type of data. Please appropriately respond with good varied data.\n",
    "Always respond in a nested json string format with the data as part of the \"data\" field. \n",
    "Return the requested number of data points only.\n",
    "For example if given a format as ['Name', 'Class', 'Grade', 'Percentage(per 100)'], field_names=['Name', 'Class', 'Grade', 'Percentage'] for 2 rows, generate a response such as:\n",
    "\"{\"data\":[{\"Name\":\"Rocky\", \"Class\":\"2A\", \"Grade\":\"B\", \"Percentage\":\"88\"}, {\"Name\":\"Barry\", \"Class\":\"3B\", \"Grade\":\"A\", \"Percentage\":\"92\"}]}\"\n",
    "You may include extra information about the generated data in a separate field like \"comments\".\n",
    "DO NOT CREATE NEW FIELD NAMES. USE ONLY THE FIELD NAMES GIVEN BY THE USER. DO NOT DISPLAY UNITS IN FIELD NAMES\n",
    "\"\"\"\n",
    "    user_message = user_input + f'\\nGenerate {num_rows} rows of data.' + f'\\nFields: {field_names}'\n",
    "    messages = [\n",
    "        {'role':'system', 'content':system_prompt},\n",
    "        {'role':'user', 'content':user_message}\n",
    "    ]\n",
    "    response = ollama.chat(model=model, messages=messages, format='json')\n",
    "    print(response['message']['content'])\n",
    "    generated_rows = json.loads(response['message']['content'])['data']\n",
    "    return generated_rows\n"
   ]
  },
  {
   "cell_type": "code",
   "execution_count": 74,
   "metadata": {},
   "outputs": [
    {
     "name": "stdout",
     "output_type": "stream",
     "text": [
      "{\n",
      "    \"data\": [\n",
      "        {\n",
      "            \"company_name\": \"ElitePrint\",\n",
      "            \"page_thickness\": \"0.5\",\n",
      "            \"copies_sold\": \"5421\",\n",
      "            \"price\": \"12\"\n",
      "        },\n",
      "        {\n",
      "            \"company_name\": \"PageMaster\",\n",
      "            \"page_thickness\": \"0.7\",\n",
      "            \"copies_sold\": \"8192\",\n",
      "            \"price\": \"8\"\n",
      "        },\n",
      "        {\n",
      "            \"company_name\": \"ThickPages Inc.\",\n",
      "            \"page_thickness\": \"1.2\",\n",
      "            \"copies_sold\": \"1279\",\n",
      "            \"price\": \"20\"\n",
      "        },\n",
      "        {\n",
      "            \"company_name\": \"PrintPro\",\n",
      "            \"page_thickness\": \"0.3\",\n",
      "            \"copies_sold\": \"9234\",\n",
      "            \"price\": \"15\"\n",
      "        },\n",
      "        {\n",
      "            \"company_name\": \"PaperWorks\",\n",
      "            \"page_thickness\": \"1.5\",\n",
      "            \"copies_sold\": \"1500\",\n",
      "            \"price\": \"25\"\n",
      "        },\n",
      "        {\n",
      "            \"company_name\": \"ThermalPress\",\n",
      "            \"page_thickness\": \"0.9\",\n",
      "            \"copies_sold\": \"6789\",\n",
      "            \"price\": \"18\"\n",
      "        },\n",
      "        {\n",
      "            \"company_name\": \"PageWorks Co.\",\n",
      "            \"page_thickness\": \"1.8\",\n",
      "            \"copies_sold\": \"2345\",\n",
      "            \"price\": \"22\"\n",
      "        },\n",
      "        {\n",
      "            \"company_name\": \"CopyCat Printing\",\n",
      "            \"page_thickness\": \"0.2\",\n",
      "            \"copies_sold\": \"9999\",\n",
      "            \"price\": \"11\"\n",
      "        },\n",
      "        {\n",
      "            \"company_name\": \"QuickPrint\",\n",
      "            \"page_thickness\": \"1.1\",\n",
      "            \"copies_sold\": \"1111\",\n",
      "            \"price\": \"21\"\n",
      "        },\n",
      "        {\n",
      "            \"company_name\": \"PaperPioneers\",\n",
      "            \"page_thickness\": \"0.6\",\n",
      "            \"copies_sold\": \"7890\",\n",
      "            \"price\": \"19\"\n",
      "        }\n",
      "    ],\n",
      "    \"comments\": \"Generated 10 rows of data for a database consisting of printer page companies, with varied values across the given fields.\"\n",
      "}\n"
     ]
    }
   ],
   "source": [
    "# example use case\n",
    "user_input=\"\"\"\n",
    "Generate data of the format [company_name, page_thickness(mm), copies_sold, price(per 100k pages)] for a database consisting of printer page companies.\n",
    "\"\"\"\n",
    "field_names = ['company_name, page_thickness', 'copies_sold', 'price']\n",
    "num_rows = 10\n",
    "llama_response = model_response('llama3.1:8b', user_input, field_names, num_rows)"
   ]
  },
  {
   "cell_type": "code",
   "execution_count": 75,
   "metadata": {},
   "outputs": [
    {
     "name": "stdout",
     "output_type": "stream",
     "text": [
      "{\n",
      "    \"data\": [\n",
      "        {\"company_name\": \"PrintMaster\", \"page_thickness\": \"0.05\", \"copies_sold\": \"200000\", \"price\": \"15\"},\n",
      "        {\"company_name\": \"PagePro\", \"page_thickness\": \"0.07\", \"copies_sold\": \"180000\", \"price\": \"12\"},\n",
      "        {\"company_name\": \"DocuPrint\", \"page_thickness\": \"0.06\", \"copies_sold\": \"300000\", \"price\": \"14\"},\n",
      "        {\"company_name\": \"CopyFlex\", \"page_thickness\": \"0.08\", \"copies_sold\": \"250000\", \"price\": \"11\"},\n",
      "        {\"company_name\": \"PrintQuick\", \"page_thickness\": \"0.09\", \"copies_sold\": \"320000\", \"price\": \"16\"},\n",
      "        {\"company_name\": \"PagePilot\", \"page_thickness\": \"0.10\", \"copies_sold\": \"400000\", \"price\": \"20\"},\n",
      "        {\"company_name\": \"DocuFlex\", \"page_thickness\": \"0.075\", \"copies_sold\": \"380000\", \"price\": \"18\"},\n",
      "        {\"company_name\": \"PrintFlow\", \"page_thickness\": \"0.065\", \"copies_sold\": \"280000\", \"price\": \"14\"},\n",
      "        {\"company_name\": \"PagePrime\", \"page_thickness\": \"0.055\", \"copies_sold\": \"350000\", \"price\": \"13\"},\n",
      "        {\"company_name\": \"PrintPrime\", \"page_thickness\": \"0.095\", \"copies_sold\": \"220000\", \"price\": \"17\"}\n",
      "    ]\n",
      "}\n",
      "{\"data\": [\n",
      "    {\"company_name\": \"NovaPrint Solutions\", \"page_thickness\": \"1.2\", \"copies_sold\": \"1500000\", \"price\": \"750\"},\n",
      "    {\"company_name\": \"Apex Imaging Group\", \"page_thickness\": \"1.5\", \"copies_sold\": \"875000\", \"price\": \"825\"},\n",
      "    {\"company_name\": \"Precision Paper Systems\", \"page_thickness\": \"0.8\", \"copies_sold\": \"2200000\", \"price\": \"680\"},\n",
      "    {\"company_name\": \"Global Print Dynamics\", \"page_thickness\": \"1.8\", \"copies_sold\": \"950000\", \"price\": \"910\"},\n",
      "    {\"company_name\": \"SwiftPage Technologies\", \"page_thickness\": \"0.5\", \"copies_sold\": \"3100000\", \"price\": \"700\"},\n",
      "    {\"company_name\": \"PrimePrint Innovations\", \"page_thickness\": \"1.0\", \"copies_sold\": \"1800000\", \"price\": \"850\"},\n",
      "    {\"company_name\": \"Dynamic Sheet Solutions\", \"page_thickness\": \"1.3\", \"copies_sold\": \"1200000\", \"price\": \"780\"},\n",
      "    {\"company_name\": \"Quantum Paper Works\", \"page_thickness\": \"0.7\", \"copies_sold\": \"2500000\", \"price\": \"650\"},\n",
      "    {\"company_name\": \"Verity Print Corp\", \"page_thickness\": \"1.6\", \"copies_sold\": \"1020000\", \"price\": \"890\"},\n",
      "    {\"company_name\": \"Zenith Paper Group\", \"page_thickness\": \"0.9\", \"copies_sold\": \"1900000\", \"price\": \"720\"}\n",
      "]}\n",
      "        \n",
      "\n"
     ]
    }
   ],
   "source": [
    "qwen_response = model_response('qwen2.5:7b', user_input, field_names, num_rows)\n",
    "gemma_response = model_response('gemma3:4b', user_input, field_names, num_rows)"
   ]
  },
  {
   "cell_type": "code",
   "execution_count": 78,
   "metadata": {},
   "outputs": [
    {
     "name": "stdout",
     "output_type": "stream",
     "text": [
      "{'company_name': 'ElitePrint', 'page_thickness': '0.5', 'copies_sold': '5421', 'price': '12'}\n",
      "{'company_name': 'PageMaster', 'page_thickness': '0.7', 'copies_sold': '8192', 'price': '8'}\n",
      "{'company_name': 'ThickPages Inc.', 'page_thickness': '1.2', 'copies_sold': '1279', 'price': '20'}\n",
      "{'company_name': 'PrintPro', 'page_thickness': '0.3', 'copies_sold': '9234', 'price': '15'}\n",
      "{'company_name': 'PaperWorks', 'page_thickness': '1.5', 'copies_sold': '1500', 'price': '25'}\n",
      "{'company_name': 'ThermalPress', 'page_thickness': '0.9', 'copies_sold': '6789', 'price': '18'}\n",
      "{'company_name': 'PageWorks Co.', 'page_thickness': '1.8', 'copies_sold': '2345', 'price': '22'}\n",
      "{'company_name': 'CopyCat Printing', 'page_thickness': '0.2', 'copies_sold': '9999', 'price': '11'}\n",
      "{'company_name': 'QuickPrint', 'page_thickness': '1.1', 'copies_sold': '1111', 'price': '21'}\n",
      "{'company_name': 'PaperPioneers', 'page_thickness': '0.6', 'copies_sold': '7890', 'price': '19'}\n",
      "{'company_name': 'PrintMaster', 'page_thickness': '0.05', 'copies_sold': '200000', 'price': '15'}\n",
      "{'company_name': 'PagePro', 'page_thickness': '0.07', 'copies_sold': '180000', 'price': '12'}\n",
      "{'company_name': 'DocuPrint', 'page_thickness': '0.06', 'copies_sold': '300000', 'price': '14'}\n",
      "{'company_name': 'CopyFlex', 'page_thickness': '0.08', 'copies_sold': '250000', 'price': '11'}\n",
      "{'company_name': 'PrintQuick', 'page_thickness': '0.09', 'copies_sold': '320000', 'price': '16'}\n",
      "{'company_name': 'PagePilot', 'page_thickness': '0.10', 'copies_sold': '400000', 'price': '20'}\n",
      "{'company_name': 'DocuFlex', 'page_thickness': '0.075', 'copies_sold': '380000', 'price': '18'}\n",
      "{'company_name': 'PrintFlow', 'page_thickness': '0.065', 'copies_sold': '280000', 'price': '14'}\n",
      "{'company_name': 'PagePrime', 'page_thickness': '0.055', 'copies_sold': '350000', 'price': '13'}\n",
      "{'company_name': 'PrintPrime', 'page_thickness': '0.095', 'copies_sold': '220000', 'price': '17'}\n",
      "{'company_name': 'NovaPrint Solutions', 'page_thickness': '1.2', 'copies_sold': '1500000', 'price': '750'}\n",
      "{'company_name': 'Apex Imaging Group', 'page_thickness': '1.5', 'copies_sold': '875000', 'price': '825'}\n",
      "{'company_name': 'Precision Paper Systems', 'page_thickness': '0.8', 'copies_sold': '2200000', 'price': '680'}\n",
      "{'company_name': 'Global Print Dynamics', 'page_thickness': '1.8', 'copies_sold': '950000', 'price': '910'}\n",
      "{'company_name': 'SwiftPage Technologies', 'page_thickness': '0.5', 'copies_sold': '3100000', 'price': '700'}\n",
      "{'company_name': 'PrimePrint Innovations', 'page_thickness': '1.0', 'copies_sold': '1800000', 'price': '850'}\n",
      "{'company_name': 'Dynamic Sheet Solutions', 'page_thickness': '1.3', 'copies_sold': '1200000', 'price': '780'}\n",
      "{'company_name': 'Quantum Paper Works', 'page_thickness': '0.7', 'copies_sold': '2500000', 'price': '650'}\n",
      "{'company_name': 'Verity Print Corp', 'page_thickness': '1.6', 'copies_sold': '1020000', 'price': '890'}\n",
      "{'company_name': 'Zenith Paper Group', 'page_thickness': '0.9', 'copies_sold': '1900000', 'price': '720'}\n"
     ]
    }
   ],
   "source": [
    "generated_data = []\n",
    "generated_data = generated_data + llama_response + qwen_response + gemma_response\n",
    "for i in range(len(generated_data)):\n",
    "    print(generated_data[i])"
   ]
  },
  {
   "cell_type": "code",
   "execution_count": 79,
   "metadata": {},
   "outputs": [
    {
     "name": "stdout",
     "output_type": "stream",
     "text": [
      "               company_name page_thickness copies_sold price\n",
      "0                ElitePrint            0.5        5421    12\n",
      "1                PageMaster            0.7        8192     8\n",
      "2           ThickPages Inc.            1.2        1279    20\n",
      "3                  PrintPro            0.3        9234    15\n",
      "4                PaperWorks            1.5        1500    25\n",
      "5              ThermalPress            0.9        6789    18\n",
      "6             PageWorks Co.            1.8        2345    22\n",
      "7          CopyCat Printing            0.2        9999    11\n",
      "8                QuickPrint            1.1        1111    21\n",
      "9             PaperPioneers            0.6        7890    19\n",
      "10              PrintMaster           0.05      200000    15\n",
      "11                  PagePro           0.07      180000    12\n",
      "12                DocuPrint           0.06      300000    14\n",
      "13                 CopyFlex           0.08      250000    11\n",
      "14               PrintQuick           0.09      320000    16\n",
      "15                PagePilot           0.10      400000    20\n",
      "16                 DocuFlex          0.075      380000    18\n",
      "17                PrintFlow          0.065      280000    14\n",
      "18                PagePrime          0.055      350000    13\n",
      "19               PrintPrime          0.095      220000    17\n",
      "20      NovaPrint Solutions            1.2     1500000   750\n",
      "21       Apex Imaging Group            1.5      875000   825\n",
      "22  Precision Paper Systems            0.8     2200000   680\n",
      "23    Global Print Dynamics            1.8      950000   910\n",
      "24   SwiftPage Technologies            0.5     3100000   700\n",
      "25   PrimePrint Innovations            1.0     1800000   850\n",
      "26  Dynamic Sheet Solutions            1.3     1200000   780\n",
      "27      Quantum Paper Works            0.7     2500000   650\n",
      "28        Verity Print Corp            1.6     1020000   890\n",
      "29       Zenith Paper Group            0.9     1900000   720\n"
     ]
    }
   ],
   "source": [
    "generated_df = pd.DataFrame.from_records(generated_data)\n",
    "print(generated_df)"
   ]
  },
  {
   "cell_type": "code",
   "execution_count": null,
   "metadata": {},
   "outputs": [],
   "source": []
  }
 ],
 "metadata": {
  "kernelspec": {
   "display_name": "llms",
   "language": "python",
   "name": "python3"
  },
  "language_info": {
   "codemirror_mode": {
    "name": "ipython",
    "version": 3
   },
   "file_extension": ".py",
   "mimetype": "text/x-python",
   "name": "python",
   "nbconvert_exporter": "python",
   "pygments_lexer": "ipython3",
   "version": "3.11.11"
  }
 },
 "nbformat": 4,
 "nbformat_minor": 2
}
